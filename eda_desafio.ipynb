{
 "cells": [
  {
   "cell_type": "markdown",
   "metadata": {},
   "source": [
    "# EDA - Analise  e extração dados"
   ]
  },
  {
   "cell_type": "markdown",
   "metadata": {},
   "source": [
    "## Carregando dados arquivo"
   ]
  },
  {
   "cell_type": "code",
   "execution_count": 2,
   "metadata": {},
   "outputs": [],
   "source": [
    "# Importando biblioteca\n",
    "import pandas as pd"
   ]
  },
  {
   "cell_type": "code",
   "execution_count": 3,
   "metadata": {},
   "outputs": [],
   "source": [
    "# carregando os dados do arquivo\n",
    "# criando Dataframe com os dados\n",
    "df_netflix = pd.read_csv('datasets/netflix daily top 10.csv')"
   ]
  },
  {
   "cell_type": "markdown",
   "metadata": {},
   "source": [
    "## Exibir tipo dados"
   ]
  },
  {
   "cell_type": "code",
   "execution_count": null,
   "metadata": {},
   "outputs": [],
   "source": [
    "# Exibindo estrutura dos registros\n",
    "df_netflix.info()\n"
   ]
  },
  {
   "cell_type": "code",
   "execution_count": null,
   "metadata": {},
   "outputs": [],
   "source": [
    "# Exibindo types\n",
    "print(df_netflix.dtypes)"
   ]
  },
  {
   "cell_type": "code",
   "execution_count": null,
   "metadata": {},
   "outputs": [],
   "source": [
    "# Exibindo 5 primeiros registros\n",
    "df_netflix.head(5)"
   ]
  },
  {
   "cell_type": "code",
   "execution_count": null,
   "metadata": {},
   "outputs": [],
   "source": [
    "# Exibindo 5 ultimos registros\n",
    "df_netflix.type(5)"
   ]
  },
  {
   "cell_type": "markdown",
   "metadata": {},
   "source": [
    "## Período da análise feita"
   ]
  },
  {
   "cell_type": "code",
   "execution_count": null,
   "metadata": {},
   "outputs": [],
   "source": [
    "# Convertendo data para formato Datetime\n",
    "df_netflix[\"As of\"] = pd.to_datetime(df_netflix[\"As of\"])\n",
    "\n",
    "# Criando data inicial e final com base nos registros\n",
    "date_inicial = df_netflix[\"As of\"].min()\n",
    "date_final = df_netflix[\"As of\"].max()\n",
    "\n",
    "# Criando Filtro por período com base nas data inicial e final\n",
    "df_filtro_date = df_netflix[(df_netflix[\"As of\"] >= date_inicial) & (df_netflix[\"As of\"] <= date_final)]\n",
    "\n",
    "# Exibindo dados do filtro por período com base nas data inicial e final\n",
    "df_filtro_date"
   ]
  },
  {
   "cell_type": "code",
   "execution_count": null,
   "metadata": {},
   "outputs": [],
   "source": [
    "# Criando calculo do período com base nas data inicial e final\n",
    "date_periodo = date_final - date_inicial\n",
    "\n",
    "print(\"Período da análise: \", date_periodo)"
   ]
  },
  {
   "cell_type": "markdown",
   "metadata": {},
   "source": [
    "## Tamanho da base de dados"
   ]
  },
  {
   "cell_type": "code",
   "execution_count": null,
   "metadata": {},
   "outputs": [],
   "source": [
    "# Exibindo tamanho da base de dados\n",
    "df_netflix.shape"
   ]
  },
  {
   "cell_type": "markdown",
   "metadata": {},
   "source": [
    "## Verificar dados nulos"
   ]
  },
  {
   "cell_type": "code",
   "execution_count": null,
   "metadata": {},
   "outputs": [],
   "source": [
    "# Analise dos dados nulos\n",
    "df_netflix.isnull().sum()"
   ]
  },
  {
   "cell_type": "code",
   "execution_count": null,
   "metadata": {},
   "outputs": [],
   "source": [
    "# Exibir somente os dados que contém dados nulos\n",
    "df_netflix[df_netflix.isnull().any(axis=1)]"
   ]
  },
  {
   "cell_type": "markdown",
   "metadata": {},
   "source": [
    "## Outliers"
   ]
  },
  {
   "cell_type": "code",
   "execution_count": null,
   "metadata": {},
   "outputs": [],
   "source": [
    "# Gerando box plot outliers Viewership Score\n",
    "df_netflix[\"Viewership Score\"].plot.box()\n"
   ]
  },
  {
   "cell_type": "code",
   "execution_count": null,
   "metadata": {},
   "outputs": [],
   "source": [
    "# As of                      0\n",
    "# Rank                       0\n",
    "# Year to Date Rank          0\n",
    "# Last Week Rank             0\n",
    "# Title                      0\n",
    "# Type                       0\n",
    "# Netflix Exclusive       2501\n",
    "# Netflix Release Date       0\n",
    "# Days In Top 10             0\n",
    "# Viewership Score           0\n",
    "\n",
    "# Gerando box plot outliers Viewership Score\n",
    "df_netflix.plot.box(column=\"Viewership Score\", by=\"Rank\")\n",
    "\n"
   ]
  },
  {
   "cell_type": "code",
   "execution_count": null,
   "metadata": {},
   "outputs": [],
   "source": [
    "# Histograma para analise de distribuição\n",
    "#df_viewership_score = df_netflix[df_netflix[\"Viewership Score\"]]\n",
    "#df_viewership_score[\"Viewership Score\"].plot.hist()\n",
    "df_netflix[\"Rank\"]"
   ]
  },
  {
   "cell_type": "code",
   "execution_count": 22,
   "metadata": {},
   "outputs": [],
   "source": [
    "# Importando biblioteca\n",
    "import numpy as np\n",
    "from scipy.stats import zscore"
   ]
  },
  {
   "cell_type": "code",
   "execution_count": 46,
   "metadata": {},
   "outputs": [],
   "source": [
    "# Criando Dataframe Viewership Score\n",
    "df_netflix_viewship_score = df_netflix[\"Viewership Score\"]"
   ]
  },
  {
   "cell_type": "code",
   "execution_count": 47,
   "metadata": {},
   "outputs": [
    {
     "data": {
      "text/plain": [
       "109.0"
      ]
     },
     "execution_count": 47,
     "metadata": {},
     "output_type": "execute_result"
    }
   ],
   "source": [
    "# Método de Tukey: IQR (Distribuição não normal)\n",
    "q1_viewership_score = df_netflix_viewship_score.quantile(0.25)\n",
    "q3_viewership_score = df_netflix_viewship_score.quantile(0.75)\n",
    "iqr_viewership_score = q3_viewership_score - q1_viewership_score\n",
    "iqr_viewership_score"
   ]
  },
  {
   "cell_type": "code",
   "execution_count": 48,
   "metadata": {},
   "outputs": [
    {
     "data": {
      "text/plain": [
       "(-144.5, 182.5)"
      ]
     },
     "execution_count": 48,
     "metadata": {},
     "output_type": "execute_result"
    }
   ],
   "source": [
    "# Limites Inferiores e Superiores\n",
    "limiteInferior_netflix_viewship_score = q1_viewership_score - (iqr_viewership_score * 1.5)\n",
    "limiteSuperior_netflix_viewship_score = q1_viewership_score + (iqr_viewership_score * 1.5)\n",
    "limiteInferior_netflix_viewship_score, limiteSuperior_netflix_viewship_score"
   ]
  },
  {
   "cell_type": "code",
   "execution_count": 49,
   "metadata": {},
   "outputs": [
    {
     "data": {
      "text/plain": [
       "100     190\n",
       "110     200\n",
       "120     210\n",
       "130     220\n",
       "140     230\n",
       "       ... \n",
       "7074    301\n",
       "7083    243\n",
       "7085    306\n",
       "7093    250\n",
       "7094    312\n",
       "Name: Viewership Score, Length: 1226, dtype: int64"
      ]
     },
     "execution_count": 49,
     "metadata": {},
     "output_type": "execute_result"
    }
   ],
   "source": [
    "# Filtrando os resultados para analise de quantos são outliers\n",
    "df_netflix_viewship_score[(df_netflix_viewship_score < limiteInferior_netflix_viewship_score) | (df_netflix_viewship_score > limiteSuperior_netflix_viewship_score)]"
   ]
  },
  {
   "cell_type": "code",
   "execution_count": null,
   "metadata": {},
   "outputs": [],
   "source": [
    "# Calculando outliers com zscore\n",
    "z_score = zscore(df_netflix[\"Viewership Score\"])\n",
    "z_score"
   ]
  },
  {
   "cell_type": "code",
   "execution_count": null,
   "metadata": {},
   "outputs": [],
   "source": [
    "# Converter os dados em valores absoluto\n",
    "z_score = np.abs(zscore(df_netflix[\"Viewership Score\"]))\n",
    "z_score"
   ]
  },
  {
   "cell_type": "code",
   "execution_count": 45,
   "metadata": {},
   "outputs": [
    {
     "data": {
      "text/plain": [
       "4334     770\n",
       "4344     776\n",
       "4353     783\n",
       "4364     789\n",
       "4375     794\n",
       "        ... \n",
       "6674    1466\n",
       "6687    1469\n",
       "6718    1471\n",
       "6959    1472\n",
       "6998    1474\n",
       "Name: Viewership Score, Length: 201, dtype: int64"
      ]
     },
     "execution_count": 45,
     "metadata": {},
     "output_type": "execute_result"
    }
   ],
   "source": [
    "# Listando os outliers utilizando ZScore para distribuição normal\n",
    "df_netflix_viewship_score[z_score > 3.0]"
   ]
  },
  {
   "cell_type": "code",
   "execution_count": null,
   "metadata": {},
   "outputs": [],
   "source": []
  }
 ],
 "metadata": {
  "kernelspec": {
   "display_name": ".venv",
   "language": "python",
   "name": "python3"
  },
  "language_info": {
   "codemirror_mode": {
    "name": "ipython",
    "version": 3
   },
   "file_extension": ".py",
   "mimetype": "text/x-python",
   "name": "python",
   "nbconvert_exporter": "python",
   "pygments_lexer": "ipython3",
   "version": "3.8.10"
  }
 },
 "nbformat": 4,
 "nbformat_minor": 2
}
